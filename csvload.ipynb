{
 "cells": [
  {
   "cell_type": "code",
   "execution_count": 70,
   "metadata": {},
   "outputs": [],
   "source": [
    "import pandas as pd\n",
    "import csv\n",
    "import numpy as np"
   ]
  },
  {
   "cell_type": "code",
   "execution_count": 71,
   "metadata": {},
   "outputs": [],
   "source": [
    "file_path = \"/Users/danielqian/Documents/Biometry_Data_For_Opticalc.xlsx\"\n",
    "df = pd.read_excel(file_path)"
   ]
  },
  {
   "cell_type": "code",
   "execution_count": 72,
   "metadata": {},
   "outputs": [],
   "source": [
    "# do some preprocessing here to convert categorical variables into numerical\n",
    "df['Gender'].replace(['F', 'M'],[0, 1], inplace=True)\n",
    "df['Eye'].replace(['OD', 'OS'], [0, 1], inplace=True)\n",
    "df['K or TK'].replace(['K', 'TK'], [0, 1], inplace=True)"
   ]
  },
  {
   "cell_type": "code",
   "execution_count": 73,
   "metadata": {},
   "outputs": [],
   "source": [
    "FULL_COLUMNS = ['Age', 'Gender', 'Eye', 'Q', 'SA', 'RMS', 'Astig EKR65', 'K1', 'K1 Axis', 'K2', 'K2 Axis', 'Axial Length', 'ACD', 'IOL Power']\n",
    "TRAIN_COLUMNS = FULL_COLUMNS + ['LT (mm)', 'WTW', 'TK1', 'TK2', 'K or TK']\n",
    "PREDICTION_COLUMN = ['Outcome SE/refraction\\n(after surgery vision)']\n",
    "\n",
    "ratio = 0.8\n",
    "total_rows = df.shape[0]\n",
    "train_size = int(total_rows*ratio)\n",
    "\n",
    "train = df[0:train_size]\n",
    "test = df[train_size:]"
   ]
  },
  {
   "cell_type": "code",
   "execution_count": 74,
   "metadata": {},
   "outputs": [],
   "source": [
    "all_column_train = train[TRAIN_COLUMNS] # contains all necessary columns for training\n",
    "all_column_y = train[PREDICTION_COLUMN] # contains output of above\n",
    "all_column_test = test[TRAIN_COLUMNS] # contains all necessary columns for testing\n",
    "all_columns_test_result = test[PREDICTION_COLUMN] # contains output of above\n",
    "\n",
    "no_na_row_df = train.dropna() # drops any rows with NaN values for training\n",
    "no_na_test_df = test.dropna() # drops any rows with NaN values for testing\n",
    "no_na_train = no_na_row_df[TRAIN_COLUMNS]\n",
    "no_na_train_y = no_na_row_df[PREDICTION_COLUMN]\n",
    "no_na_test = no_na_test_df[TRAIN_COLUMNS]\n",
    "no_na_test_y = no_na_test_df[PREDICTION_COLUMN]"
   ]
  }
 ],
 "metadata": {
  "kernelspec": {
   "display_name": "Python 3.10.9 ('base')",
   "language": "python",
   "name": "python3"
  },
  "language_info": {
   "codemirror_mode": {
    "name": "ipython",
    "version": 3
   },
   "file_extension": ".py",
   "mimetype": "text/x-python",
   "name": "python",
   "nbconvert_exporter": "python",
   "pygments_lexer": "ipython3",
   "version": "3.10.9"
  },
  "orig_nbformat": 4,
  "vscode": {
   "interpreter": {
    "hash": "f7c31fab77c3cd1e9f3a0cb381c964276c59fad45f57b06737b006c59b7c8782"
   }
  }
 },
 "nbformat": 4,
 "nbformat_minor": 2
}
